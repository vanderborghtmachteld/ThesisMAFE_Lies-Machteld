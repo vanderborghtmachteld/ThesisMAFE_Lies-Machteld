{
 "cells": [
  {
   "cell_type": "markdown",
   "id": "c8ecae13",
   "metadata": {},
   "source": [
    "# Parameter tuning for force of mortality NN (DAV data)"
   ]
  },
  {
   "cell_type": "code",
   "execution_count": 1,
   "id": "081745cf",
   "metadata": {},
   "outputs": [
    {
     "name": "stderr",
     "output_type": "stream",
     "text": [
      "C:\\Users\\liesv\\anaconda3\\lib\\site-packages\\scipy\\__init__.py:146: UserWarning: A NumPy version >=1.16.5 and <1.23.0 is required for this version of SciPy (detected version 1.26.4\n",
      "  warnings.warn(f\"A NumPy version >={np_minversion} and <{np_maxversion}\"\n"
     ]
    }
   ],
   "source": [
    "import numpy as np\n",
    "import pandas as pd\n",
    "from matplotlib import pyplot as plt\n",
    "import seaborn as sns\n",
    "import os\n",
    "from sklearn.utils import shuffle\n",
    "import tensorflow as tf\n",
    "from keras.models import Model\n",
    "from keras.layers import Input, Dense, Flatten, Embedding, BatchNormalization, Dropout, Concatenate\n",
    "from keras.utils import plot_model"
   ]
  },
  {
   "cell_type": "markdown",
   "id": "e78fc880",
   "metadata": {},
   "source": [
    "## Import data"
   ]
  },
  {
   "cell_type": "code",
   "execution_count": 2,
   "id": "753ecd07",
   "metadata": {
    "scrolled": true
   },
   "outputs": [],
   "source": [
    "MYwd= os.getcwd()\n",
    "file_path = MYwd+\"\\GitHub DAV\\mortality.csv\"\n",
    "\n",
    "df = pd.read_csv(file_path)\n",
    "\n",
    "# add a column with the mortality rates (originally, only the log_mortality rates are included)\n",
    "df['mortality'] = np.exp(df['log_mortality'])\n",
    "\n",
    "# the dataset contains data from west and east germany seperately. we only use the rates for the entire population of germany (DEUT)\n",
    "df = df[(df['Country'].isin([\"CHE\",\"DEUT\",\"DNK\", \"ESP\", \"FRATNP\", \"ITA\", \"JPN\", \"POL\", \"USA\"]))]\n",
    "\n",
    "df['Gender'] = df['Gender'].astype('category').cat.codes\n",
    "df['Country'] = df['Country'].astype('category').cat.codes"
   ]
  },
  {
   "cell_type": "markdown",
   "id": "bde871b6",
   "metadata": {},
   "source": [
    "### Division training and test set"
   ]
  },
  {
   "cell_type": "code",
   "execution_count": 3,
   "id": "2283f2b7",
   "metadata": {},
   "outputs": [],
   "source": [
    "# Set up the training set\n",
    "train = df[(df['Year'].between(1956, 2005))]\n",
    "train = train.copy() \n",
    "\n",
    "# shuffle training set to get a more varied validation set\n",
    "#train = shuffle(train, random_state=42)     # random_state is gelijk set.seed() (elke keer dezelfde shuffle)\n",
    "\n",
    "\n",
    "# Set up the test set\n",
    "test_set = df[(df['Year'].between(2006, 2016))]\n",
    "test_set = test_set.copy()"
   ]
  },
  {
   "cell_type": "markdown",
   "id": "a21cd2b5",
   "metadata": {},
   "source": [
    "## Neural network"
   ]
  },
  {
   "cell_type": "code",
   "execution_count": 4,
   "id": "14d9b301",
   "metadata": {},
   "outputs": [],
   "source": [
    "# custom activation function that maps values to range [-infty, 0]\n",
    "\n",
    "def log_sigmoid(x):\n",
    "    return tf.math.log_sigmoid(x)\n",
    "\n",
    "def negative_softplus(x):\n",
    "    return -tf.math.softplus(x)\n",
    "\n",
    "def negative_relu(x):\n",
    "    return tf.minimum(0.0, x)\n",
    "\n",
    "def scaled_log_sigmoid(x):\n",
    "    return (1/5.55) * tf.math.log_sigmoid(x)"
   ]
  },
  {
   "cell_type": "code",
   "execution_count": null,
   "id": "2146d07e",
   "metadata": {},
   "outputs": [],
   "source": [
    "year_mean, year_std = train['Year'].mean(), train['Year'].std()\n",
    "age_mean, age_std = train['Age'].mean(), train['Age'].std()\n",
    "gender_mean, gender_std = train['Gender'].mean(), train['Gender'].std()\n",
    "country_mean, country_std = train['Country'].mean(), train['Country'].std()"
   ]
  },
  {
   "cell_type": "code",
   "execution_count": 5,
   "id": "5255ff2d",
   "metadata": {},
   "outputs": [],
   "source": [
    "# function to normalize and prepare the data for training\n",
    "\n",
    "def normalize_data(data, add_country=True, add_gender=True, embed_age=False, embed_coun_gen=True):\n",
    "    year = data['Year'].values.reshape(-1,1)\n",
    "    age = data['Age'].values.reshape(-1,1)\n",
    "    gender = data['Gender'].values.reshape(-1,1)\n",
    "    country = data['Country'].values.reshape(-1,1)\n",
    "    \n",
    "    #year_mean, year_std = year.mean(), year.std()\n",
    "    #age_mean, age_std = age.mean(), age.std()\n",
    "    #gender_mean, gender_std = gender.mean(), gender.std()\n",
    "    #country_mean, country_std = country.mean(), country.std()\n",
    "    \n",
    "    year_norm = (year - year_mean) / year_std\n",
    "    age_norm = (age - age_mean) / age_std\n",
    "    gender_norm = (gender - gender_mean) / gender_std\n",
    "    country_norm = (country - country_mean) / country_std\n",
    "    \n",
    "    if add_country and add_gender:\n",
    "        if embed_age and embed_coun_gen:\n",
    "            X = [year_norm, age, gender, country]\n",
    "        elif embed_age:\n",
    "            X = [year_norm, age, gender_norm, country_norm]\n",
    "        elif embed_coun_gen:\n",
    "            X = [year_norm, age_norm, gender, country]\n",
    "        else:\n",
    "            X = [year_norm, age_norm, gender_norm, country_norm]\n",
    "    elif add_country:\n",
    "        if embed_age and embed_coun_gen:\n",
    "            X = [year_norm, age, country]\n",
    "        elif embed_age:\n",
    "            X = [year_norm, age, country_norm]\n",
    "        elif embed_coun_gen:\n",
    "            X = [year_norm, age_norm, country]\n",
    "        else:\n",
    "            X = [year_norm, age_norm, country_norm]\n",
    "    elif add_gender:\n",
    "        if embed_age and embed_coun_gen:\n",
    "            X = [year_norm, age, gender]\n",
    "        elif embed_age:\n",
    "            X = [year_norm, age, gender_norm]\n",
    "        elif embed_coun_gen:\n",
    "            X = [year_norm, age_norm, gender]\n",
    "        else:\n",
    "            X = [year_norm, age_norm, gender_norm]\n",
    "    else:\n",
    "        if embed_age:\n",
    "            X = [year_norm, age]\n",
    "        else:\n",
    "            X = [year_norm, age_norm]\n",
    "    \n",
    "    Y = data['log_mortality'].values.reshape(-1,1)\n",
    "    \n",
    "    return X, Y\n"
   ]
  },
  {
   "cell_type": "code",
   "execution_count": null,
   "id": "4dd9ca52",
   "metadata": {},
   "outputs": [],
   "source": [
    "\n"
   ]
  },
  {
   "cell_type": "code",
   "execution_count": 6,
   "id": "b1d8ce64",
   "metadata": {},
   "outputs": [],
   "source": [
    "# Build the neural network model\n",
    "\n",
    "def build_model(add_country=True, add_gender=True, embed_age=False, embed_coun_gen=True):\n",
    "    \n",
    "    # Define the input layers\n",
    "    year = Input(shape=(1,), dtype='float32', name='year')\n",
    "    age = Input(shape=(1,), dtype='float32', name='age')\n",
    "    gender = Input(shape=(1,), dtype='float32', name='gender')\n",
    "    country = Input(shape=(1,), dtype='float32', name='country')\n",
    "    \n",
    "    # Define embedding layers for categorical variables\n",
    "    age_embed = Embedding(input_dim=101, output_dim=20, name='age_embed')(age)\n",
    "    age_embed = Flatten()(age_embed)\n",
    "\n",
    "    gender_embed = Embedding(input_dim=2, output_dim=2, name='gender_embed')(gender)\n",
    "    gender_embed = Flatten()(gender_embed)\n",
    "    \n",
    "    country_embed = Embedding(input_dim=9, output_dim=3, name='country_embed')(country)\n",
    "    country_embed = Flatten()(country_embed)\n",
    "    \n",
    "    # Concatenate the defined features\n",
    "    if add_country and add_gender:\n",
    "        if embed_age and embed_coun_gen:\n",
    "            features = Concatenate()([year, age_embed, gender_embed, country_embed])\n",
    "        elif embed_age:\n",
    "            features = Concatenate()([year, age_embed, gender, country])\n",
    "        elif embed_coun_gen:\n",
    "            features = Concatenate()([year, age, gender_embed, country_embed])\n",
    "        else:\n",
    "            features = Concatenate()([year, age, gender, country])\n",
    "    elif add_country:\n",
    "        if embed_age and embed_coun_gen:\n",
    "            features = Concatenate()([year, age_embed, country_embed])\n",
    "        elif embed_age:\n",
    "            features = Concatenate()([year, age_embed, country])\n",
    "        elif embed_coun_gen:\n",
    "            features = Concatenate()([year, age, country_embed])\n",
    "        else:\n",
    "            features = Concatenate()([year, age, country])\n",
    "    elif add_gender:\n",
    "        if embed_age and embed_coun_gen:\n",
    "            features = Concatenate()([year, age_embed, gender_embed])\n",
    "        elif embed_age:\n",
    "            features = Concatenate()([year, age_embed, gender])\n",
    "        elif embed_coun_gen:\n",
    "            features = Concatenate()([year, age, gender_embed])\n",
    "        else:\n",
    "            features = Concatenate()([year, age, gender])\n",
    "    else:\n",
    "        if embed_age:\n",
    "            features = Concatenate()([year, age_embed])\n",
    "        else:\n",
    "            features = Concatenate()([year, age])\n",
    "    \n",
    "    \n",
    "    # Define the hidden layers\n",
    "    d1 = Dense(units=256, activation='relu')(features)\n",
    "    d1 = BatchNormalization()(d1)\n",
    "    d1 = Dropout(0.2)(d1)\n",
    "    \n",
    "    d2 = Dense(units=256, activation='relu')(d1)\n",
    "    d2 = BatchNormalization()(d2)\n",
    "    d2 = Dropout(0.2)(d2)\n",
    "\n",
    "    # Define the output layer\n",
    "    target = Dense(units=1, activation='linear')(d2)\n",
    "    \n",
    "    if add_country and add_gender:\n",
    "        model = Model(inputs=[year, age, gender, country], outputs=target)\n",
    "    elif add_country:\n",
    "        model = Model(inputs=[year, age, country], outputs=target)\n",
    "    elif add_gender:\n",
    "        model = Model(inputs=[year, age, gender], outputs=target)\n",
    "    else:\n",
    "        model = Model(inputs=[year, age], outputs=target)\n",
    "    \n",
    "\n",
    "    adam_optimizer = tf.keras.optimizers.Adam(0.0005)\n",
    "    model.compile(optimizer=adam_optimizer, loss='mse')\n",
    "    \n",
    "    return model"
   ]
  },
  {
   "cell_type": "code",
   "execution_count": null,
   "id": "55bea463",
   "metadata": {},
   "outputs": [],
   "source": []
  },
  {
   "cell_type": "markdown",
   "id": "2489ab75",
   "metadata": {},
   "source": [
    "### Test verschillende input combos\n",
    "We gaan nog eens voor alle input combos trainen, year en age zitten er standaard in, country en gender kunnen ieder apart of beide toegevoegd worden en voor age, country en gender kan met embedding of zonder embedding gedaan worden"
   ]
  },
  {
   "cell_type": "code",
   "execution_count": 7,
   "id": "06adeb02",
   "metadata": {},
   "outputs": [
    {
     "name": "stdout",
     "output_type": "stream",
     "text": [
      "calculating for [True, True, True, True]\n",
      "Restoring model weights from the end of the best epoch: 149.\n",
      "Epoch 110: early stopping\n",
      "Restoring model weights from the end of the best epoch: 70.\n",
      "Restoring model weights from the end of the best epoch: 113.\n",
      "Restoring model weights from the end of the best epoch: 114.\n",
      "Restoring model weights from the end of the best epoch: 124.\n"
     ]
    },
    {
     "data": {
      "image/png": "[encoded data removed]",
      "text/plain": [
       "<Figure size 432x288 with 1 Axes>"
      ]
     },
     "metadata": {
      "needs_background": "light"
     },
     "output_type": "display_data"
    },
    {
     "name": "stdout",
     "output_type": "stream",
     "text": [
      "calculating for [True, True, True, False]\n",
      "Restoring model weights from the end of the best epoch: 148.\n",
      "Restoring model weights from the end of the best epoch: 145.\n",
      "Restoring model weights from the end of the best epoch: 136.\n",
      "Epoch 129: early stopping\n",
      "Restoring model weights from the end of the best epoch: 89.\n",
      "Epoch 143: early stopping\n",
      "Restoring model weights from the end of the best epoch: 103.\n"
     ]
    },
    {
     "data": {
      "image/png": "[encoded data removed]",
      "text/plain": [
       "<Figure size 432x288 with 1 Axes>"
      ]
     },
     "metadata": {
      "needs_background": "light"
     },
     "output_type": "display_data"
    },
    {
     "name": "stdout",
     "output_type": "stream",
     "text": [
      "calculating for [True, True, False, True]\n",
      "Epoch 104: early stopping\n",
      "Restoring model weights from the end of the best epoch: 64.\n",
      "Restoring model weights from the end of the best epoch: 122.\n",
      "Epoch 127: early stopping\n",
      "Restoring model weights from the end of the best epoch: 87.\n",
      "Epoch 111: early stopping\n",
      "Restoring model weights from the end of the best epoch: 71.\n",
      "Epoch 114: early stopping\n",
      "Restoring model weights from the end of the best epoch: 74.\n"
     ]
    },
    {
     "data": {
      "image/png": "[encoded data removed]",
      "text/plain": [
       "<Figure size 432x288 with 1 Axes>"
      ]
     },
     "metadata": {
      "needs_background": "light"
     },
     "output_type": "display_data"
    },
    {
     "name": "stdout",
     "output_type": "stream",
     "text": [
      "calculating for [True, True, False, False]\n",
      "Epoch 91: early stopping\n",
      "Restoring model weights from the end of the best epoch: 51.\n",
      "Restoring model weights from the end of the best epoch: 140.\n",
      "Epoch 137: early stopping\n",
      "Restoring model weights from the end of the best epoch: 97.\n",
      "Epoch 111: early stopping\n",
      "Restoring model weights from the end of the best epoch: 71.\n",
      "Epoch 118: early stopping\n",
      "Restoring model weights from the end of the best epoch: 78.\n"
     ]
    },
    {
     "data": {
      "image/png": "[encoded data removed]",
      "text/plain": [
       "<Figure size 432x288 with 1 Axes>"
      ]
     },
     "metadata": {
      "needs_background": "light"
     },
     "output_type": "display_data"
    },
    {
     "name": "stdout",
     "output_type": "stream",
     "text": [
      "calculating for [True, False, True, True]\n",
      "Epoch 135: early stopping\n",
      "Restoring model weights from the end of the best epoch: 95.\n",
      "Epoch 124: early stopping\n",
      "Restoring model weights from the end of the best epoch: 84.\n",
      "Restoring model weights from the end of the best epoch: 136.\n",
      "Epoch 146: early stopping\n",
      "Restoring model weights from the end of the best epoch: 106.\n",
      "Restoring model weights from the end of the best epoch: 133.\n"
     ]
    },
    {
     "data": {
      "image/png": "[encoded data removed]",
      "text/plain": [
       "<Figure size 432x288 with 1 Axes>"
      ]
     },
     "metadata": {
      "needs_background": "light"
     },
     "output_type": "display_data"
    },
    {
     "name": "stdout",
     "output_type": "stream",
     "text": [
      "calculating for [True, False, True, False]\n",
      "Epoch 133: early stopping\n",
      "Restoring model weights from the end of the best epoch: 93.\n",
      "Epoch 131: early stopping\n",
      "Restoring model weights from the end of the best epoch: 91.\n",
      "Epoch 82: early stopping\n",
      "Restoring model weights from the end of the best epoch: 42.\n",
      "Restoring model weights from the end of the best epoch: 130.\n",
      "Epoch 150: early stopping\n",
      "Restoring model weights from the end of the best epoch: 110.\n"
     ]
    },
    {
     "data": {
      "image/png": "[encoded data removed]",
      "text/plain": [
       "<Figure size 432x288 with 1 Axes>"
      ]
     },
     "metadata": {
      "needs_background": "light"
     },
     "output_type": "display_data"
    },
    {
     "name": "stdout",
     "output_type": "stream",
     "text": [
      "calculating for [True, False, False, True]\n",
      "Epoch 111: early stopping\n",
      "Restoring model weights from the end of the best epoch: 71.\n",
      "Restoring model weights from the end of the best epoch: 140.\n",
      "Epoch 115: early stopping\n",
      "Restoring model weights from the end of the best epoch: 75.\n",
      "Epoch 127: early stopping\n",
      "Restoring model weights from the end of the best epoch: 87.\n",
      "Epoch 83: early stopping\n",
      "Restoring model weights from the end of the best epoch: 43.\n"
     ]
    },
    {
     "data": {
      "image/png": "[encoded data removed]",
      "text/plain": [
       "<Figure size 432x288 with 1 Axes>"
      ]
     },
     "metadata": {
      "needs_background": "light"
     },
     "output_type": "display_data"
    },
    {
     "name": "stdout",
     "output_type": "stream",
     "text": [
      "calculating for [True, False, False, False]\n",
      "Epoch 141: early stopping\n",
      "Restoring model weights from the end of the best epoch: 101.\n",
      "Restoring model weights from the end of the best epoch: 145.\n",
      "Epoch 100: early stopping\n",
      "Restoring model weights from the end of the best epoch: 60.\n",
      "Restoring model weights from the end of the best epoch: 141.\n",
      "Epoch 123: early stopping\n",
      "Restoring model weights from the end of the best epoch: 83.\n"
     ]
    },
    {
     "data": {
      "image/png": "[encoded data removed]",
      "text/plain": [
       "<Figure size 432x288 with 1 Axes>"
      ]
     },
     "metadata": {
      "needs_background": "light"
     },
     "output_type": "display_data"
    },
    {
     "name": "stdout",
     "output_type": "stream",
     "text": [
      "calculating for [False, True, True, True]\n",
      "Epoch 114: early stopping\n",
      "Restoring model weights from the end of the best epoch: 74.\n",
      "Epoch 147: early stopping\n",
      "Restoring model weights from the end of the best epoch: 107.\n",
      "Epoch 123: early stopping\n",
      "Restoring model weights from the end of the best epoch: 83.\n",
      "Epoch 74: early stopping\n",
      "Restoring model weights from the end of the best epoch: 34.\n",
      "Epoch 102: early stopping\n",
      "Restoring model weights from the end of the best epoch: 62.\n"
     ]
    },
    {
     "data": {
      "image/png": "[encoded data removed]",
      "text/plain": [
       "<Figure size 432x288 with 1 Axes>"
      ]
     },
     "metadata": {
      "needs_background": "light"
     },
     "output_type": "display_data"
    },
    {
     "name": "stdout",
     "output_type": "stream",
     "text": [
      "calculating for [False, True, True, False]\n",
      "Epoch 140: early stopping\n",
      "Restoring model weights from the end of the best epoch: 100.\n",
      "Epoch 105: early stopping\n",
      "Restoring model weights from the end of the best epoch: 65.\n",
      "Epoch 69: early stopping\n",
      "Restoring model weights from the end of the best epoch: 29.\n",
      "Epoch 100: early stopping\n",
      "Restoring model weights from the end of the best epoch: 60.\n",
      "Epoch 83: early stopping\n",
      "Restoring model weights from the end of the best epoch: 43.\n"
     ]
    },
    {
     "data": {
      "image/png": "[encoded data removed]",
      "text/plain": [
       "<Figure size 432x288 with 1 Axes>"
      ]
     },
     "metadata": {
      "needs_background": "light"
     },
     "output_type": "display_data"
    },
    {
     "name": "stdout",
     "output_type": "stream",
     "text": [
      "calculating for [False, True, False, True]\n",
      "Epoch 66: early stopping\n",
      "Restoring model weights from the end of the best epoch: 26.\n",
      "Epoch 87: early stopping\n",
      "Restoring model weights from the end of the best epoch: 47.\n",
      "Epoch 124: early stopping\n",
      "Restoring model weights from the end of the best epoch: 84.\n",
      "Epoch 72: early stopping\n",
      "Restoring model weights from the end of the best epoch: 32.\n",
      "Epoch 129: early stopping\n",
      "Restoring model weights from the end of the best epoch: 89.\n"
     ]
    },
    {
     "data": {
      "image/png": "[encoded data removed]",
      "text/plain": [
       "<Figure size 432x288 with 1 Axes>"
      ]
     },
     "metadata": {
      "needs_background": "light"
     },
     "output_type": "display_data"
    },
    {
     "name": "stdout",
     "output_type": "stream",
     "text": [
      "calculating for [False, True, False, False]\n",
      "Epoch 98: early stopping\n",
      "Restoring model weights from the end of the best epoch: 58.\n",
      "Epoch 120: early stopping\n",
      "Restoring model weights from the end of the best epoch: 80.\n",
      "Epoch 92: early stopping\n",
      "Restoring model weights from the end of the best epoch: 52.\n",
      "Epoch 81: early stopping\n",
      "Restoring model weights from the end of the best epoch: 41.\n",
      "Epoch 67: early stopping\n",
      "Restoring model weights from the end of the best epoch: 27.\n"
     ]
    },
    {
     "data": {
      "image/png": "[encoded data removed]",
      "text/plain": [
       "<Figure size 432x288 with 1 Axes>"
      ]
     },
     "metadata": {
      "needs_background": "light"
     },
     "output_type": "display_data"
    },
    {
     "name": "stdout",
     "output_type": "stream",
     "text": [
      "calculating for [False, False, True, True]\n",
      "Epoch 112: early stopping\n",
      "Restoring model weights from the end of the best epoch: 72.\n",
      "Epoch 132: early stopping\n",
      "Restoring model weights from the end of the best epoch: 92.\n",
      "Epoch 103: early stopping\n",
      "Restoring model weights from the end of the best epoch: 63.\n",
      "Epoch 83: early stopping\n",
      "Restoring model weights from the end of the best epoch: 43.\n",
      "Epoch 131: early stopping\n",
      "Restoring model weights from the end of the best epoch: 91.\n"
     ]
    },
    {
     "data": {
      "image/png": "[encoded data removed]",
      "text/plain": [
       "<Figure size 432x288 with 1 Axes>"
      ]
     },
     "metadata": {
      "needs_background": "light"
     },
     "output_type": "display_data"
    },
    {
     "name": "stdout",
     "output_type": "stream",
     "text": [
      "calculating for [False, False, True, False]\n",
      "Restoring model weights from the end of the best epoch: 121.\n",
      "Epoch 145: early stopping\n",
      "Restoring model weights from the end of the best epoch: 105.\n",
      "Restoring model weights from the end of the best epoch: 122.\n",
      "Restoring model weights from the end of the best epoch: 121.\n",
      "Epoch 67: early stopping\n",
      "Restoring model weights from the end of the best epoch: 27.\n"
     ]
    },
    {
     "data": {
      "image/png": "[encoded data removed]",
      "text/plain": [
       "<Figure size 432x288 with 1 Axes>"
      ]
     },
     "metadata": {
      "needs_background": "light"
     },
     "output_type": "display_data"
    },
    {
     "name": "stdout",
     "output_type": "stream",
     "text": [
      "calculating for [False, False, False, True]\n",
      "Epoch 91: early stopping\n",
      "Restoring model weights from the end of the best epoch: 51.\n",
      "Restoring model weights from the end of the best epoch: 111.\n",
      "Epoch 93: early stopping\n",
      "Restoring model weights from the end of the best epoch: 53.\n",
      "Epoch 117: early stopping\n",
      "Restoring model weights from the end of the best epoch: 77.\n",
      "Epoch 114: early stopping\n",
      "Restoring model weights from the end of the best epoch: 74.\n"
     ]
    },
    {
     "data": {
      "image/png": "[encoded data removed]",
      "text/plain": [
       "<Figure size 432x288 with 1 Axes>"
      ]
     },
     "metadata": {
      "needs_background": "light"
     },
     "output_type": "display_data"
    },
    {
     "name": "stdout",
     "output_type": "stream",
     "text": [
      "calculating for [False, False, False, False]\n",
      "Epoch 146: early stopping\n",
      "Restoring model weights from the end of the best epoch: 106.\n",
      "Epoch 107: early stopping\n",
      "Restoring model weights from the end of the best epoch: 67.\n",
      "Restoring model weights from the end of the best epoch: 148.\n",
      "Restoring model weights from the end of the best epoch: 118.\n",
      "Epoch 131: early stopping\n",
      "Restoring model weights from the end of the best epoch: 91.\n"
     ]
    },
    {
     "data": {
      "image/png": "[encoded data removed]",
      "text/plain": [
       "<Figure size 432x288 with 1 Axes>"
      ]
     },
     "metadata": {
      "needs_background": "light"
     },
     "output_type": "display_data"
    }
   ],
   "source": [
    "opties = [True, False]\n",
    "\n",
    "results = pd.DataFrame(columns = ['add_country', 'add_gender', 'embed_age', 'embed_coun_gen', 'mean_train_loss', 'mean_val_loss', 'mean_test_loss'])\n",
    "\n",
    "index = 0\n",
    "n_runs = 5\n",
    "epochs = 150\n",
    "\n",
    "for add_country in opties:\n",
    "    for add_gender in opties:\n",
    "        for embed_age in opties:\n",
    "            for embed_coun_gen in opties: \n",
    "                print(f'calculating for {[add_country, add_gender, embed_age, embed_coun_gen]}')\n",
    "                \n",
    "                # prepare training data (depending on which features and embeddings are included)\n",
    "                X_train, Y_train = normalize_data(train, add_country, add_gender, embed_age, embed_coun_gen)\n",
    "                X_test, Y_test = normalize_data(test_set, add_country, add_gender, embed_age, embed_coun_gen)\n",
    "        \n",
    "                train_loss, val_loss, score = np.zeros(n_runs), np.zeros(n_runs), np.zeros(n_runs)\n",
    "                \n",
    "                for run in range(n_runs):\n",
    "                \n",
    "                    model = build_model(add_country=add_country, add_gender=add_gender, embed_age=embed_age, embed_coun_gen=embed_coun_gen)\n",
    "                    \n",
    "                    earlystop = tf.keras.callbacks.EarlyStopping(monitor='val_loss', min_delta=0, patience=40, verbose=1, restore_best_weights=True)\n",
    "                    history = model.fit(x=X_train, y=Y_train, batch_size=128, epochs=epochs, verbose=0, validation_split=0.15,\n",
    "                                       callbacks=[earlystop])\n",
    "                \n",
    "                    train_loss[run] = history.history['loss'][-1]\n",
    "                    val_loss[run] = history.history['val_loss'][-1]\n",
    "                    score[run] = model.evaluate(X_test, Y_test, verbose=0)\n",
    "            \n",
    "                results.loc[index] = [add_country, add_gender, embed_age, embed_coun_gen, train_loss.mean(), val_loss.mean(), score.mean()]\n",
    "                index += 1\n",
    "            \n",
    "                plt.plot(history.history['loss'], label='Train Loss')\n",
    "                plt.plot(history.history['val_loss'], label='Validation Loss')\n",
    "                plt.legend()\n",
    "                plt.show()\n"
   ]
  },
  {
   "cell_type": "code",
   "execution_count": 8,
   "id": "5356a407",
   "metadata": {},
   "outputs": [
    {
     "data": {
      "text/html": [
       "<div>\n",
       "<style scoped>\n",
       "    .dataframe tbody tr th:only-of-type {\n",
       "        vertical-align: middle;\n",
       "    }\n",
       "\n",
       "    .dataframe tbody tr th {\n",
       "        vertical-align: top;\n",
       "    }\n",
       "\n",
       "    .dataframe thead th {\n",
       "        text-align: right;\n",
       "    }\n",
       "</style>\n",
       "<table border=\"1\" class=\"dataframe\">\n",
       "  <thead>\n",
       "    <tr style=\"text-align: right;\">\n",
       "      <th></th>\n",
       "      <th>add_country</th>\n",
       "      <th>add_gender</th>\n",
       "      <th>embed_age</th>\n",
       "      <th>embed_coun_gen</th>\n",
       "      <th>mean_train_loss</th>\n",
       "      <th>mean_val_loss</th>\n",
       "      <th>mean_test_loss</th>\n",
       "    </tr>\n",
       "  </thead>\n",
       "  <tbody>\n",
       "    <tr>\n",
       "      <th>0</th>\n",
       "      <td>True</td>\n",
       "      <td>True</td>\n",
       "      <td>True</td>\n",
       "      <td>True</td>\n",
       "      <td>0.090714</td>\n",
       "      <td>0.018553</td>\n",
       "      <td>0.566975</td>\n",
       "    </tr>\n",
       "    <tr>\n",
       "      <th>1</th>\n",
       "      <td>True</td>\n",
       "      <td>True</td>\n",
       "      <td>True</td>\n",
       "      <td>False</td>\n",
       "      <td>0.094456</td>\n",
       "      <td>0.019278</td>\n",
       "      <td>0.558420</td>\n",
       "    </tr>\n",
       "    <tr>\n",
       "      <th>2</th>\n",
       "      <td>True</td>\n",
       "      <td>True</td>\n",
       "      <td>False</td>\n",
       "      <td>True</td>\n",
       "      <td>0.105949</td>\n",
       "      <td>0.029179</td>\n",
       "      <td>0.569516</td>\n",
       "    </tr>\n",
       "    <tr>\n",
       "      <th>3</th>\n",
       "      <td>True</td>\n",
       "      <td>True</td>\n",
       "      <td>False</td>\n",
       "      <td>False</td>\n",
       "      <td>0.112993</td>\n",
       "      <td>0.031594</td>\n",
       "      <td>0.559493</td>\n",
       "    </tr>\n",
       "    <tr>\n",
       "      <th>4</th>\n",
       "      <td>True</td>\n",
       "      <td>False</td>\n",
       "      <td>True</td>\n",
       "      <td>True</td>\n",
       "      <td>0.187080</td>\n",
       "      <td>0.119089</td>\n",
       "      <td>0.653819</td>\n",
       "    </tr>\n",
       "    <tr>\n",
       "      <th>5</th>\n",
       "      <td>True</td>\n",
       "      <td>False</td>\n",
       "      <td>True</td>\n",
       "      <td>False</td>\n",
       "      <td>0.193079</td>\n",
       "      <td>0.118979</td>\n",
       "      <td>0.665032</td>\n",
       "    </tr>\n",
       "    <tr>\n",
       "      <th>6</th>\n",
       "      <td>True</td>\n",
       "      <td>False</td>\n",
       "      <td>False</td>\n",
       "      <td>True</td>\n",
       "      <td>0.204801</td>\n",
       "      <td>0.134181</td>\n",
       "      <td>0.652730</td>\n",
       "    </tr>\n",
       "    <tr>\n",
       "      <th>7</th>\n",
       "      <td>True</td>\n",
       "      <td>False</td>\n",
       "      <td>False</td>\n",
       "      <td>False</td>\n",
       "      <td>0.207388</td>\n",
       "      <td>0.132263</td>\n",
       "      <td>0.673964</td>\n",
       "    </tr>\n",
       "    <tr>\n",
       "      <th>8</th>\n",
       "      <td>False</td>\n",
       "      <td>True</td>\n",
       "      <td>True</td>\n",
       "      <td>True</td>\n",
       "      <td>0.121865</td>\n",
       "      <td>0.052421</td>\n",
       "      <td>0.616029</td>\n",
       "    </tr>\n",
       "    <tr>\n",
       "      <th>9</th>\n",
       "      <td>False</td>\n",
       "      <td>True</td>\n",
       "      <td>True</td>\n",
       "      <td>False</td>\n",
       "      <td>0.127300</td>\n",
       "      <td>0.060003</td>\n",
       "      <td>0.601868</td>\n",
       "    </tr>\n",
       "    <tr>\n",
       "      <th>10</th>\n",
       "      <td>False</td>\n",
       "      <td>True</td>\n",
       "      <td>False</td>\n",
       "      <td>True</td>\n",
       "      <td>0.136727</td>\n",
       "      <td>0.065608</td>\n",
       "      <td>0.611347</td>\n",
       "    </tr>\n",
       "    <tr>\n",
       "      <th>11</th>\n",
       "      <td>False</td>\n",
       "      <td>True</td>\n",
       "      <td>False</td>\n",
       "      <td>False</td>\n",
       "      <td>0.140376</td>\n",
       "      <td>0.072913</td>\n",
       "      <td>0.607496</td>\n",
       "    </tr>\n",
       "    <tr>\n",
       "      <th>12</th>\n",
       "      <td>False</td>\n",
       "      <td>False</td>\n",
       "      <td>True</td>\n",
       "      <td>True</td>\n",
       "      <td>0.219537</td>\n",
       "      <td>0.147664</td>\n",
       "      <td>0.685649</td>\n",
       "    </tr>\n",
       "    <tr>\n",
       "      <th>13</th>\n",
       "      <td>False</td>\n",
       "      <td>False</td>\n",
       "      <td>True</td>\n",
       "      <td>False</td>\n",
       "      <td>0.219825</td>\n",
       "      <td>0.145822</td>\n",
       "      <td>0.676723</td>\n",
       "    </tr>\n",
       "    <tr>\n",
       "      <th>14</th>\n",
       "      <td>False</td>\n",
       "      <td>False</td>\n",
       "      <td>False</td>\n",
       "      <td>True</td>\n",
       "      <td>0.231081</td>\n",
       "      <td>0.165387</td>\n",
       "      <td>0.703992</td>\n",
       "    </tr>\n",
       "    <tr>\n",
       "      <th>15</th>\n",
       "      <td>False</td>\n",
       "      <td>False</td>\n",
       "      <td>False</td>\n",
       "      <td>False</td>\n",
       "      <td>0.227969</td>\n",
       "      <td>0.150440</td>\n",
       "      <td>0.701925</td>\n",
       "    </tr>\n",
       "  </tbody>\n",
       "</table>\n",
       "</div>"
      ],
      "text/plain": [
       "    add_country  add_gender  embed_age  embed_coun_gen  mean_train_loss  \\\n",
       "0          True        True       True            True         0.090714   \n",
       "1          True        True       True           False         0.094456   \n",
       "2          True        True      False            True         0.105949   \n",
       "3          True        True      False           False         0.112993   \n",
       "4          True       False       True            True         0.187080   \n",
       "5          True       False       True           False         0.193079   \n",
       "6          True       False      False            True         0.204801   \n",
       "7          True       False      False           False         0.207388   \n",
       "8         False        True       True            True         0.121865   \n",
       "9         False        True       True           False         0.127300   \n",
       "10        False        True      False            True         0.136727   \n",
       "11        False        True      False           False         0.140376   \n",
       "12        False       False       True            True         0.219537   \n",
       "13        False       False       True           False         0.219825   \n",
       "14        False       False      False            True         0.231081   \n",
       "15        False       False      False           False         0.227969   \n",
       "\n",
       "    mean_val_loss  mean_test_loss  \n",
       "0        0.018553        0.566975  \n",
       "1        0.019278        0.558420  \n",
       "2        0.029179        0.569516  \n",
       "3        0.031594        0.559493  \n",
       "4        0.119089        0.653819  \n",
       "5        0.118979        0.665032  \n",
       "6        0.134181        0.652730  \n",
       "7        0.132263        0.673964  \n",
       "8        0.052421        0.616029  \n",
       "9        0.060003        0.601868  \n",
       "10       0.065608        0.611347  \n",
       "11       0.072913        0.607496  \n",
       "12       0.147664        0.685649  \n",
       "13       0.145822        0.676723  \n",
       "14       0.165387        0.703992  \n",
       "15       0.150440        0.701925  "
      ]
     },
     "execution_count": 8,
     "metadata": {},
     "output_type": "execute_result"
    }
   ],
   "source": [
    "results"
   ]
  },
  {
   "cell_type": "code",
   "execution_count": 9,
   "id": "eb4b5c7e",
   "metadata": {},
   "outputs": [],
   "source": [
    "results.to_excel(\"results_DAV.xlsx\", index=False)"
   ]
  },
  {
   "cell_type": "code",
   "execution_count": null,
   "id": "2e58ae83",
   "metadata": {},
   "outputs": [],
   "source": []
  },
  {
   "cell_type": "code",
   "execution_count": 10,
   "id": "8926d974",
   "metadata": {},
   "outputs": [
    {
     "data": {
      "text/plain": [
       "\"\\nX_train, Y_train = normalize_data(train)\\nX_test, Y_test = normalize_data(test_set)\\n\\nmodel = build_model()\\nearlystop = tf.keras.callbacks.EarlyStopping(monitor='val_loss', min_delta=0, patience=40, verbose=1, restore_best_weights=True)\\nhistory = model.fit(x=X_train, y=Y_train, batch_size=128, epochs=150, verbose=1, validation_split=0.15,\\n                   callbacks=[earlystop])\\n\""
      ]
     },
     "execution_count": 10,
     "metadata": {},
     "output_type": "execute_result"
    }
   ],
   "source": [
    "\"\"\"\n",
    "X_train, Y_train = normalize_data(train)\n",
    "X_test, Y_test = normalize_data(test_set)\n",
    "\n",
    "model = build_model()\n",
    "earlystop = tf.keras.callbacks.EarlyStopping(monitor='val_loss', min_delta=0, patience=40, verbose=1, restore_best_weights=True)\n",
    "history = model.fit(x=X_train, y=Y_train, batch_size=128, epochs=150, verbose=1, validation_split=0.15,\n",
    "                   callbacks=[earlystop])\n",
    "\"\"\""
   ]
  },
  {
   "cell_type": "code",
   "execution_count": 11,
   "id": "3ae8357a",
   "metadata": {},
   "outputs": [
    {
     "data": {
      "text/plain": [
       "\"\\nplt.plot(history.history['loss'], label='Train Loss')\\nplt.plot(history.history['val_loss'], label='Validation Loss')\\nplt.legend()\\nplt.show()\\n\""
      ]
     },
     "execution_count": 11,
     "metadata": {},
     "output_type": "execute_result"
    }
   ],
   "source": [
    "\"\"\"\n",
    "plt.plot(history.history['loss'], label='Train Loss')\n",
    "plt.plot(history.history['val_loss'], label='Validation Loss')\n",
    "plt.legend()\n",
    "plt.show()\n",
    "\"\"\""
   ]
  },
  {
   "cell_type": "code",
   "execution_count": 12,
   "id": "50b558a3",
   "metadata": {},
   "outputs": [
    {
     "data": {
      "text/plain": [
       "'\\nscore = model.evaluate(X_test, Y_test, verbose=0)\\nprint(model.metrics_names)\\nprint(score)\\n\\n\\n# predictions on the test set: \\npredic = model.predict(X_test)\\n\\ntest_set[\\'prediction\\'] = predic\\nprint(test_set)\\n\\nplt.scatter(test_set[\\'Age\\'], test_set[\\'log_mortality\\'], label=\"Actual\")\\nplt.scatter(test_set[\\'Age\\'], test_set[\\'prediction\\'], label=\"Predicted\")\\nplt.legend()\\nplt.title(\\'Prediction results for log(force of mortality)\\')\\nplt.xlabel(\\'Age\\')\\nplt.ylabel(\\'$\\\\ln(\\\\mu_x)$\\')\\nplt.show()\\n'"
      ]
     },
     "execution_count": 12,
     "metadata": {},
     "output_type": "execute_result"
    }
   ],
   "source": [
    "\"\"\"\n",
    "score = model.evaluate(X_test, Y_test, verbose=0)\n",
    "print(model.metrics_names)\n",
    "print(score)\n",
    "\n",
    "\n",
    "# predictions on the test set: \n",
    "predic = model.predict(X_test)\n",
    "\n",
    "test_set['prediction'] = predic\n",
    "print(test_set)\n",
    "\n",
    "plt.scatter(test_set['Age'], test_set['log_mortality'], label=\"Actual\")\n",
    "plt.scatter(test_set['Age'], test_set['prediction'], label=\"Predicted\")\n",
    "plt.legend()\n",
    "plt.title('Prediction results for log(force of mortality)')\n",
    "plt.xlabel('Age')\n",
    "plt.ylabel('$\\ln(\\mu_x)$')\n",
    "plt.show()\n",
    "\"\"\""
   ]
  },
  {
   "cell_type": "code",
   "execution_count": 13,
   "id": "fd1115fa",
   "metadata": {},
   "outputs": [
    {
     "data": {
      "text/plain": [
       "'\\n# omzetting log(force of mortality) to mortality en plotten:\\ntest_set[\\'predic_mortality\\'] = np.exp(test_set[\\'prediction\\'])\\nplt.scatter(test_set[\\'Age\\'], test_set[\\'mortality\\'], label=\"Actual\")\\nplt.scatter(test_set[\\'Age\\'], test_set[\\'predic_mortality\\'], label=\"Predicted\")\\nplt.title(\\'Prediction results for force of mortality\\')\\nplt.xlabel(\\'Age\\')\\nplt.ylabel(\\'$\\\\mu_x$\\')\\nplt.legend()\\nplt.show()\\n'"
      ]
     },
     "execution_count": 13,
     "metadata": {},
     "output_type": "execute_result"
    }
   ],
   "source": [
    "\"\"\"\n",
    "# omzetting log(force of mortality) to mortality en plotten:\n",
    "test_set['predic_mortality'] = np.exp(test_set['prediction'])\n",
    "plt.scatter(test_set['Age'], test_set['mortality'], label=\"Actual\")\n",
    "plt.scatter(test_set['Age'], test_set['predic_mortality'], label=\"Predicted\")\n",
    "plt.title('Prediction results for force of mortality')\n",
    "plt.xlabel('Age')\n",
    "plt.ylabel('$\\mu_x$')\n",
    "plt.legend()\n",
    "plt.show()\n",
    "\"\"\""
   ]
  },
  {
   "cell_type": "code",
   "execution_count": 14,
   "id": "3cf6b9f3",
   "metadata": {},
   "outputs": [
    {
     "data": {
      "text/plain": [
       "'\\n# Create the FacetGrid\\ng = sns.FacetGrid(test_set, col=\\'Country\\', row=\\'Year\\', margin_titles=True, height=4, aspect=0.7)\\n\\n# Plot actual values\\ng.map_dataframe(sns.scatterplot, x=\\'Age\\', y=\\'log_mortality\\', s=30, label=\\'actual\\')\\n\\n# Loop through axes to add predicted values\\nfor ax, (_, subset) in zip(g.axes.flat, test_set.groupby([\\'Country\\', \\'Year\\'])):\\n    ax.scatter(subset[\\'Age\\'], subset[\\'prediction\\'], color=\\'orange\\', label=\\'prediction\\', s=20, alpha=0.5)  # Different color for prediction\\n    ax.axhline(y=-7.5, color=\\'grey\\', linestyle=\\'--\\', linewidth=1)\\n    ax.legend()\\n\\n# Adjust labels\\ng.set_axis_labels(\"Age\", \"Log Mortality\")\\n\\n# Show plot\\nplt.show()\\n'"
      ]
     },
     "execution_count": 14,
     "metadata": {},
     "output_type": "execute_result"
    }
   ],
   "source": [
    "\"\"\"\n",
    "# Create the FacetGrid\n",
    "g = sns.FacetGrid(test_set, col='Country', row='Year', margin_titles=True, height=4, aspect=0.7)\n",
    "\n",
    "# Plot actual values\n",
    "g.map_dataframe(sns.scatterplot, x='Age', y='log_mortality', s=30, label='actual')\n",
    "\n",
    "# Loop through axes to add predicted values\n",
    "for ax, (_, subset) in zip(g.axes.flat, test_set.groupby(['Country', 'Year'])):\n",
    "    ax.scatter(subset['Age'], subset['prediction'], color='orange', label='prediction', s=20, alpha=0.5)  # Different color for prediction\n",
    "    ax.axhline(y=-7.5, color='grey', linestyle='--', linewidth=1)\n",
    "    ax.legend()\n",
    "\n",
    "# Adjust labels\n",
    "g.set_axis_labels(\"Age\", \"Log Mortality\")\n",
    "\n",
    "# Show plot\n",
    "plt.show()\n",
    "\"\"\""
   ]
  },
  {
   "cell_type": "code",
   "execution_count": null,
   "id": "425e3617",
   "metadata": {},
   "outputs": [],
   "source": [
    "\n",
    "\n"
   ]
  },
  {
   "cell_type": "code",
   "execution_count": null,
   "id": "b7faa551",
   "metadata": {},
   "outputs": [],
   "source": []
  }
 ],
 "metadata": {
  "kernelspec": {
   "display_name": "Python 3 (ipykernel)",
   "language": "python",
   "name": "python3"
  },
  "language_info": {
   "codemirror_mode": {
    "name": "ipython",
    "version": 3
   },
   "file_extension": ".py",
   "mimetype": "text/x-python",
   "name": "python",
   "nbconvert_exporter": "python",
   "pygments_lexer": "ipython3",
   "version": "3.9.12"
  }
 },
 "nbformat": 4,
 "nbformat_minor": 5
}
